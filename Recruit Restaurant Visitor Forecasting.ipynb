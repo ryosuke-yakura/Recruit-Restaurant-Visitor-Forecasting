{
 "cells": [
  {
   "cell_type": "code",
   "execution_count": 1,
   "metadata": {},
   "outputs": [
    {
     "name": "stdout",
     "output_type": "stream",
     "text": [
      "Collecting lightgbm\n",
      "  Downloading lightgbm-3.3.2-py3-none-manylinux1_x86_64.whl (2.0 MB)\n",
      "\u001b[2K     \u001b[90m━━━━━━━━━━━━━━━━━━━━━━━━━━━━━━━━━━━━━━━━\u001b[0m \u001b[32m2.0/2.0 MB\u001b[0m \u001b[31m5.6 MB/s\u001b[0m eta \u001b[36m0:00:00\u001b[0m00:01\u001b[0m00:01\u001b[0mm\n",
      "\u001b[?25hRequirement already satisfied: scipy in ./anaconda3/lib/python3.8/site-packages (from lightgbm) (1.5.0)\n",
      "Requirement already satisfied: scikit-learn!=0.22.0 in ./anaconda3/lib/python3.8/site-packages (from lightgbm) (0.23.1)\n",
      "Requirement already satisfied: wheel in ./anaconda3/lib/python3.8/site-packages (from lightgbm) (0.34.2)\n",
      "Requirement already satisfied: numpy in ./anaconda3/lib/python3.8/site-packages (from lightgbm) (1.18.5)\n",
      "Requirement already satisfied: threadpoolctl>=2.0.0 in ./anaconda3/lib/python3.8/site-packages (from scikit-learn!=0.22.0->lightgbm) (2.1.0)\n",
      "Requirement already satisfied: joblib>=0.11 in ./anaconda3/lib/python3.8/site-packages (from scikit-learn!=0.22.0->lightgbm) (0.16.0)\n",
      "Installing collected packages: lightgbm\n",
      "Successfully installed lightgbm-3.3.2\n",
      "\u001b[33mWARNING: Running pip as the 'root' user can result in broken permissions and conflicting behaviour with the system package manager. It is recommended to use a virtual environment instead: https://pip.pypa.io/warnings/venv\u001b[0m\u001b[33m\n",
      "\u001b[0mNote: you may need to restart the kernel to use updated packages.\n"
     ]
    }
   ],
   "source": [
    "pip install lightgbm"
   ]
  },
  {
   "cell_type": "code",
   "execution_count": 2,
   "metadata": {},
   "outputs": [],
   "source": [
    "#モジュールのインポート\n",
    "import numpy as np\n",
    "import pandas as pd\n",
    "import matplotlib.pyplot as plt\n",
    "import seaborn as sns\n",
    "import sklearn\n",
    "import datetime\n",
    "import lightgbm as lgb"
   ]
  },
  {
   "cell_type": "code",
   "execution_count": 3,
   "metadata": {},
   "outputs": [],
   "source": [
    "#データの読み込み\n",
    "air_reserve = pd.read_csv(\"air_reserve.csv\") #airシステムで行われあt予約情報\n",
    "air_store_info = pd.read_csv(\"air_store_info.csv\") #レストランに関する情報\n",
    "air_visit_data = pd.read_csv(\"air_visit_data.csv\") #レストランの過去の訪問データ\n",
    "date_info = pd.read_csv(\"date_info.csv\") #カレンダーの日付情報\n",
    "hpg_reserve = pd.read_csv(\"hpg_reserve.csv\") #hpgシステムで行われた予約情報\n",
    "hpg_store_info = pd.read_csv(\"hpg_store_info.csv\") #hpgシステムを使用しているレストラン情報\n",
    "store_id_relation = pd.read_csv(\"store_id_relation.csv\") #hpdとairのid連携\n",
    "sample_sub = pd.read_csv(\"sample_submission.csv\") #sab"
   ]
  },
  {
   "cell_type": "code",
   "execution_count": 4,
   "metadata": {},
   "outputs": [
    {
     "data": {
      "text/html": [
       "<div>\n",
       "<style scoped>\n",
       "    .dataframe tbody tr th:only-of-type {\n",
       "        vertical-align: middle;\n",
       "    }\n",
       "\n",
       "    .dataframe tbody tr th {\n",
       "        vertical-align: top;\n",
       "    }\n",
       "\n",
       "    .dataframe thead th {\n",
       "        text-align: right;\n",
       "    }\n",
       "</style>\n",
       "<table border=\"1\" class=\"dataframe\">\n",
       "  <thead>\n",
       "    <tr style=\"text-align: right;\">\n",
       "      <th></th>\n",
       "      <th>air_store_id</th>\n",
       "      <th>visit_datetime</th>\n",
       "      <th>reserve_datetime</th>\n",
       "      <th>reserve_visitors</th>\n",
       "    </tr>\n",
       "  </thead>\n",
       "  <tbody>\n",
       "    <tr>\n",
       "      <th>0</th>\n",
       "      <td>air_877f79706adbfb06</td>\n",
       "      <td>2016-01-01 19:00:00</td>\n",
       "      <td>2016-01-01 16:00:00</td>\n",
       "      <td>1</td>\n",
       "    </tr>\n",
       "    <tr>\n",
       "      <th>1</th>\n",
       "      <td>air_db4b38ebe7a7ceff</td>\n",
       "      <td>2016-01-01 19:00:00</td>\n",
       "      <td>2016-01-01 19:00:00</td>\n",
       "      <td>3</td>\n",
       "    </tr>\n",
       "    <tr>\n",
       "      <th>2</th>\n",
       "      <td>air_db4b38ebe7a7ceff</td>\n",
       "      <td>2016-01-01 19:00:00</td>\n",
       "      <td>2016-01-01 19:00:00</td>\n",
       "      <td>6</td>\n",
       "    </tr>\n",
       "    <tr>\n",
       "      <th>3</th>\n",
       "      <td>air_877f79706adbfb06</td>\n",
       "      <td>2016-01-01 20:00:00</td>\n",
       "      <td>2016-01-01 16:00:00</td>\n",
       "      <td>2</td>\n",
       "    </tr>\n",
       "    <tr>\n",
       "      <th>4</th>\n",
       "      <td>air_db80363d35f10926</td>\n",
       "      <td>2016-01-01 20:00:00</td>\n",
       "      <td>2016-01-01 01:00:00</td>\n",
       "      <td>5</td>\n",
       "    </tr>\n",
       "  </tbody>\n",
       "</table>\n",
       "</div>"
      ],
      "text/plain": [
       "           air_store_id       visit_datetime     reserve_datetime  \\\n",
       "0  air_877f79706adbfb06  2016-01-01 19:00:00  2016-01-01 16:00:00   \n",
       "1  air_db4b38ebe7a7ceff  2016-01-01 19:00:00  2016-01-01 19:00:00   \n",
       "2  air_db4b38ebe7a7ceff  2016-01-01 19:00:00  2016-01-01 19:00:00   \n",
       "3  air_877f79706adbfb06  2016-01-01 20:00:00  2016-01-01 16:00:00   \n",
       "4  air_db80363d35f10926  2016-01-01 20:00:00  2016-01-01 01:00:00   \n",
       "\n",
       "   reserve_visitors  \n",
       "0                 1  \n",
       "1                 3  \n",
       "2                 6  \n",
       "3                 2  \n",
       "4                 5  "
      ]
     },
     "execution_count": 4,
     "metadata": {},
     "output_type": "execute_result"
    }
   ],
   "source": [
    "#データの確認\n",
    "air_reserve.head()"
   ]
  },
  {
   "cell_type": "code",
   "execution_count": 5,
   "metadata": {},
   "outputs": [
    {
     "data": {
      "text/plain": [
       "air_store_id        0\n",
       "visit_datetime      0\n",
       "reserve_datetime    0\n",
       "reserve_visitors    0\n",
       "dtype: int64"
      ]
     },
     "execution_count": 5,
     "metadata": {},
     "output_type": "execute_result"
    }
   ],
   "source": [
    "#欠損値の確認\n",
    "air_reserve.isnull().sum()"
   ]
  },
  {
   "cell_type": "code",
   "execution_count": 6,
   "metadata": {},
   "outputs": [
    {
     "name": "stdout",
     "output_type": "stream",
     "text": [
      "object\n",
      "datetime64[ns]\n",
      "object\n",
      "datetime64[ns]\n"
     ]
    }
   ],
   "source": [
    "#datetime型に変換\n",
    "print(air_reserve[\"visit_datetime\"].dtypes)\n",
    "air_reserve[\"visit_datetime\"] = pd.to_datetime(air_reserve[\"visit_datetime\"])\n",
    "print(air_reserve[\"visit_datetime\"].dtype) #データ型の確認\n",
    "\n",
    "print(air_reserve[\"reserve_datetime\"].dtypes)\n",
    "air_reserve[\"reserve_datetime\"] = pd.to_datetime(air_reserve[\"reserve_datetime\"])\n",
    "print(air_reserve[\"reserve_datetime\"].dtype) #データ型の確認"
   ]
  },
  {
   "cell_type": "code",
   "execution_count": 7,
   "metadata": {},
   "outputs": [],
   "source": [
    "#年月日をタイムスタンプから抽出\n",
    "air_reserve[\"visit_date\"] = air_reserve[\"visit_datetime\"].dt.strftime('%Y-%m-%d')"
   ]
  },
  {
   "cell_type": "code",
   "execution_count": 8,
   "metadata": {},
   "outputs": [],
   "source": [
    "#予約時間と来店時間との差分\n",
    "air_reserve[\"time_lag\"] = air_reserve[\"visit_datetime\"] - air_reserve[\"reserve_datetime\"]"
   ]
  },
  {
   "cell_type": "code",
   "execution_count": 9,
   "metadata": {},
   "outputs": [],
   "source": [
    "#日付データの作成(2016-01-01~2017-05-31)\n",
    "store_id = pd.DataFrame(\n",
    "    {\n",
    "    \"air_store_id\":air_reserve[\"air_store_id\"].unique(),\n",
    "    \"flg\":1\n",
    "    }\n",
    ")\n",
    "\n",
    "data_index = pd.DataFrame(\n",
    "    {\n",
    "    \"visit_date\":pd.date_range(start= \"2016-01-01\", end= \"2017-05-31\"),\n",
    "    \"flg\":1\n",
    "    }\n",
    ")\n",
    "store_data_index = pd.merge(data_index,  store_id, on=\"flg\", how=\"outer\")"
   ]
  },
  {
   "cell_type": "code",
   "execution_count": 10,
   "metadata": {},
   "outputs": [
    {
     "data": {
      "text/plain": [
       "(433,)"
      ]
     },
     "execution_count": 10,
     "metadata": {},
     "output_type": "execute_result"
    }
   ],
   "source": [
    "#データサイズ確認\n",
    "air_reserve[\"visit_date\"].unique().shape"
   ]
  },
  {
   "cell_type": "code",
   "execution_count": 11,
   "metadata": {},
   "outputs": [
    {
     "data": {
      "text/html": [
       "<div>\n",
       "<style scoped>\n",
       "    .dataframe tbody tr th:only-of-type {\n",
       "        vertical-align: middle;\n",
       "    }\n",
       "\n",
       "    .dataframe tbody tr th {\n",
       "        vertical-align: top;\n",
       "    }\n",
       "\n",
       "    .dataframe thead th {\n",
       "        text-align: right;\n",
       "    }\n",
       "</style>\n",
       "<table border=\"1\" class=\"dataframe\">\n",
       "  <thead>\n",
       "    <tr style=\"text-align: right;\">\n",
       "      <th></th>\n",
       "      <th>air_store_id</th>\n",
       "      <th>visit_datetime</th>\n",
       "      <th>reserve_datetime</th>\n",
       "      <th>reserve_visitors</th>\n",
       "      <th>visit_date</th>\n",
       "      <th>time_lag</th>\n",
       "    </tr>\n",
       "  </thead>\n",
       "  <tbody>\n",
       "    <tr>\n",
       "      <th>92373</th>\n",
       "      <td>air_db4b38ebe7a7ceff</td>\n",
       "      <td>2017-05-29 18:00:00</td>\n",
       "      <td>2017-04-17 19:00:00</td>\n",
       "      <td>6</td>\n",
       "      <td>2017-05-29</td>\n",
       "      <td>41 days 23:00:00</td>\n",
       "    </tr>\n",
       "    <tr>\n",
       "      <th>92374</th>\n",
       "      <td>air_1033310359ceeac1</td>\n",
       "      <td>2017-05-30 23:00:00</td>\n",
       "      <td>2017-04-19 17:00:00</td>\n",
       "      <td>8</td>\n",
       "      <td>2017-05-30</td>\n",
       "      <td>41 days 06:00:00</td>\n",
       "    </tr>\n",
       "    <tr>\n",
       "      <th>92375</th>\n",
       "      <td>air_877f79706adbfb06</td>\n",
       "      <td>2017-05-31 20:00:00</td>\n",
       "      <td>2017-04-12 23:00:00</td>\n",
       "      <td>3</td>\n",
       "      <td>2017-05-31</td>\n",
       "      <td>48 days 21:00:00</td>\n",
       "    </tr>\n",
       "    <tr>\n",
       "      <th>92376</th>\n",
       "      <td>air_900d755ebd2f7bbd</td>\n",
       "      <td>2017-05-31 20:00:00</td>\n",
       "      <td>2017-04-19 16:00:00</td>\n",
       "      <td>10</td>\n",
       "      <td>2017-05-31</td>\n",
       "      <td>42 days 04:00:00</td>\n",
       "    </tr>\n",
       "    <tr>\n",
       "      <th>92377</th>\n",
       "      <td>air_3cad29d1a23209d2</td>\n",
       "      <td>2017-05-31 21:00:00</td>\n",
       "      <td>2017-04-22 10:00:00</td>\n",
       "      <td>3</td>\n",
       "      <td>2017-05-31</td>\n",
       "      <td>39 days 11:00:00</td>\n",
       "    </tr>\n",
       "  </tbody>\n",
       "</table>\n",
       "</div>"
      ],
      "text/plain": [
       "               air_store_id      visit_datetime    reserve_datetime  \\\n",
       "92373  air_db4b38ebe7a7ceff 2017-05-29 18:00:00 2017-04-17 19:00:00   \n",
       "92374  air_1033310359ceeac1 2017-05-30 23:00:00 2017-04-19 17:00:00   \n",
       "92375  air_877f79706adbfb06 2017-05-31 20:00:00 2017-04-12 23:00:00   \n",
       "92376  air_900d755ebd2f7bbd 2017-05-31 20:00:00 2017-04-19 16:00:00   \n",
       "92377  air_3cad29d1a23209d2 2017-05-31 21:00:00 2017-04-22 10:00:00   \n",
       "\n",
       "       reserve_visitors  visit_date         time_lag  \n",
       "92373                 6  2017-05-29 41 days 23:00:00  \n",
       "92374                 8  2017-05-30 41 days 06:00:00  \n",
       "92375                 3  2017-05-31 48 days 21:00:00  \n",
       "92376                10  2017-05-31 42 days 04:00:00  \n",
       "92377                 3  2017-05-31 39 days 11:00:00  "
      ]
     },
     "execution_count": 11,
     "metadata": {},
     "output_type": "execute_result"
    }
   ],
   "source": [
    "air_reserve.tail()"
   ]
  },
  {
   "cell_type": "code",
   "execution_count": 12,
   "metadata": {},
   "outputs": [
    {
     "data": {
      "text/plain": [
       "(29830, 4)"
      ]
     },
     "execution_count": 12,
     "metadata": {},
     "output_type": "execute_result"
    }
   ],
   "source": [
    "#日付ごとに集計したデータフレームを作成\n",
    "air_df = air_reserve.groupby([\"visit_date\",\"air_store_id\"]).agg({\"reserve_visitors\":\"sum\", \"time_lag\":\"sum\"}).reset_index()\n",
    "air_df.shape"
   ]
  },
  {
   "cell_type": "code",
   "execution_count": 13,
   "metadata": {},
   "outputs": [
    {
     "data": {
      "text/plain": [
       "array(['2016-01-01', '2016-01-02', '2016-01-03', '2016-01-04',\n",
       "       '2016-01-05', '2016-01-06', '2016-01-07', '2016-01-08',\n",
       "       '2016-01-09', '2016-01-10', '2016-01-11', '2016-01-12',\n",
       "       '2016-01-13', '2016-01-14', '2016-01-15', '2016-01-16',\n",
       "       '2016-01-17', '2016-01-18', '2016-01-19', '2016-01-20',\n",
       "       '2016-01-21', '2016-01-22', '2016-01-23', '2016-01-24',\n",
       "       '2016-01-25', '2016-01-26', '2016-01-27', '2016-01-28',\n",
       "       '2016-01-29', '2016-01-30', '2016-01-31', '2016-02-01',\n",
       "       '2016-02-02', '2016-02-03', '2016-02-04', '2016-02-05',\n",
       "       '2016-02-06', '2016-02-07', '2016-02-08', '2016-02-09',\n",
       "       '2016-02-10', '2016-02-11', '2016-02-12', '2016-02-13',\n",
       "       '2016-02-14', '2016-02-15', '2016-02-16', '2016-02-17',\n",
       "       '2016-02-18', '2016-02-19', '2016-02-20', '2016-02-21',\n",
       "       '2016-02-22', '2016-02-23', '2016-02-24', '2016-02-25',\n",
       "       '2016-02-26', '2016-02-27', '2016-02-28', '2016-02-29',\n",
       "       '2016-03-01', '2016-03-02', '2016-03-03', '2016-03-04',\n",
       "       '2016-03-05', '2016-03-06', '2016-03-07', '2016-03-08',\n",
       "       '2016-03-09', '2016-03-10', '2016-03-11', '2016-03-12',\n",
       "       '2016-03-13', '2016-03-14', '2016-03-15', '2016-03-16',\n",
       "       '2016-03-17', '2016-03-18', '2016-03-19', '2016-03-20',\n",
       "       '2016-03-21', '2016-03-22', '2016-03-23', '2016-03-24',\n",
       "       '2016-03-25', '2016-03-26', '2016-03-27', '2016-03-28',\n",
       "       '2016-03-29', '2016-03-30', '2016-03-31', '2016-04-01',\n",
       "       '2016-04-02', '2016-04-03', '2016-04-04', '2016-04-05',\n",
       "       '2016-04-06', '2016-04-07', '2016-04-08', '2016-04-09',\n",
       "       '2016-04-10', '2016-04-11', '2016-04-12', '2016-04-13',\n",
       "       '2016-04-14', '2016-04-15', '2016-04-16', '2016-04-17',\n",
       "       '2016-04-18', '2016-04-19', '2016-04-20', '2016-04-21',\n",
       "       '2016-04-22', '2016-04-23', '2016-04-24', '2016-04-25',\n",
       "       '2016-04-26', '2016-04-27', '2016-04-28', '2016-04-29',\n",
       "       '2016-04-30', '2016-05-01', '2016-05-02', '2016-05-03',\n",
       "       '2016-05-04', '2016-05-05', '2016-05-06', '2016-05-07',\n",
       "       '2016-05-08', '2016-05-09', '2016-05-10', '2016-05-11',\n",
       "       '2016-05-12', '2016-05-13', '2016-05-14', '2016-05-15',\n",
       "       '2016-05-16', '2016-05-17', '2016-05-18', '2016-05-19',\n",
       "       '2016-05-20', '2016-05-21', '2016-05-22', '2016-05-23',\n",
       "       '2016-05-24', '2016-05-25', '2016-05-26', '2016-05-27',\n",
       "       '2016-05-28', '2016-05-29', '2016-05-30', '2016-05-31',\n",
       "       '2016-06-01', '2016-06-02', '2016-06-03', '2016-06-04',\n",
       "       '2016-06-05', '2016-06-06', '2016-06-07', '2016-06-08',\n",
       "       '2016-06-09', '2016-06-10', '2016-06-11', '2016-06-12',\n",
       "       '2016-06-13', '2016-06-14', '2016-06-15', '2016-06-16',\n",
       "       '2016-06-17', '2016-06-18', '2016-06-19', '2016-06-20',\n",
       "       '2016-06-21', '2016-06-22', '2016-06-23', '2016-06-24',\n",
       "       '2016-06-25', '2016-06-26', '2016-06-27', '2016-06-28',\n",
       "       '2016-06-29', '2016-06-30', '2016-07-01', '2016-07-02',\n",
       "       '2016-07-03', '2016-07-04', '2016-07-05', '2016-07-06',\n",
       "       '2016-07-07', '2016-07-08', '2016-07-09', '2016-07-10',\n",
       "       '2016-07-11', '2016-07-12', '2016-07-13', '2016-07-14',\n",
       "       '2016-07-15', '2016-07-16', '2016-07-17', '2016-07-18',\n",
       "       '2016-07-19', '2016-07-20', '2016-07-21', '2016-07-22',\n",
       "       '2016-07-23', '2016-07-24', '2016-07-25', '2016-07-26',\n",
       "       '2016-07-31', '2016-08-09', '2016-09-03', '2016-09-05',\n",
       "       '2016-09-12', '2016-09-16', '2016-10-06', '2016-10-26',\n",
       "       '2016-10-27', '2016-10-28', '2016-10-29', '2016-10-30',\n",
       "       '2016-10-31', '2016-11-01', '2016-11-02', '2016-11-03',\n",
       "       '2016-11-04', '2016-11-05', '2016-11-06', '2016-11-07',\n",
       "       '2016-11-08', '2016-11-09', '2016-11-10', '2016-11-11',\n",
       "       '2016-11-12', '2016-11-13', '2016-11-14', '2016-11-15',\n",
       "       '2016-11-16', '2016-11-17', '2016-11-18', '2016-11-19',\n",
       "       '2016-11-20', '2016-11-21', '2016-11-22', '2016-11-23',\n",
       "       '2016-11-24', '2016-11-25', '2016-11-26', '2016-11-27',\n",
       "       '2016-11-28', '2016-11-29', '2016-11-30', '2016-12-01',\n",
       "       '2016-12-02', '2016-12-03', '2016-12-04', '2016-12-05',\n",
       "       '2016-12-06', '2016-12-07', '2016-12-08', '2016-12-09',\n",
       "       '2016-12-10', '2016-12-11', '2016-12-12', '2016-12-13',\n",
       "       '2016-12-14', '2016-12-15', '2016-12-16', '2016-12-17',\n",
       "       '2016-12-18', '2016-12-19', '2016-12-20', '2016-12-21',\n",
       "       '2016-12-22', '2016-12-23', '2016-12-24', '2016-12-25',\n",
       "       '2016-12-26', '2016-12-27', '2016-12-28', '2016-12-29',\n",
       "       '2016-12-30', '2016-12-31', '2017-01-01', '2017-01-02',\n",
       "       '2017-01-03', '2017-01-04', '2017-01-05', '2017-01-06',\n",
       "       '2017-01-07', '2017-01-08', '2017-01-09', '2017-01-10',\n",
       "       '2017-01-11', '2017-01-12', '2017-01-13', '2017-01-14',\n",
       "       '2017-01-15', '2017-01-16', '2017-01-17', '2017-01-18',\n",
       "       '2017-01-19', '2017-01-20', '2017-01-21', '2017-01-22',\n",
       "       '2017-01-23', '2017-01-24', '2017-01-25', '2017-01-26',\n",
       "       '2017-01-27', '2017-01-28', '2017-01-29', '2017-01-30',\n",
       "       '2017-01-31', '2017-02-01', '2017-02-02', '2017-02-03',\n",
       "       '2017-02-04', '2017-02-05', '2017-02-06', '2017-02-07',\n",
       "       '2017-02-08', '2017-02-09', '2017-02-10', '2017-02-11',\n",
       "       '2017-02-12', '2017-02-13', '2017-02-14', '2017-02-15',\n",
       "       '2017-02-16', '2017-02-17', '2017-02-18', '2017-02-19',\n",
       "       '2017-02-20', '2017-02-21', '2017-02-22', '2017-02-23',\n",
       "       '2017-02-24', '2017-02-25', '2017-02-26', '2017-02-27',\n",
       "       '2017-02-28', '2017-03-01', '2017-03-02', '2017-03-03',\n",
       "       '2017-03-04', '2017-03-05', '2017-03-06', '2017-03-07',\n",
       "       '2017-03-08', '2017-03-09', '2017-03-10', '2017-03-11',\n",
       "       '2017-03-12', '2017-03-13', '2017-03-14', '2017-03-15',\n",
       "       '2017-03-16', '2017-03-17', '2017-03-18', '2017-03-19',\n",
       "       '2017-03-20', '2017-03-21', '2017-03-22', '2017-03-23',\n",
       "       '2017-03-24', '2017-03-25', '2017-03-26', '2017-03-27',\n",
       "       '2017-03-28', '2017-03-29', '2017-03-30', '2017-03-31',\n",
       "       '2017-04-01', '2017-04-02', '2017-04-03', '2017-04-04',\n",
       "       '2017-04-05', '2017-04-06', '2017-04-07', '2017-04-08',\n",
       "       '2017-04-09', '2017-04-10', '2017-04-11', '2017-04-12',\n",
       "       '2017-04-13', '2017-04-14', '2017-04-15', '2017-04-16',\n",
       "       '2017-04-17', '2017-04-18', '2017-04-19', '2017-04-20',\n",
       "       '2017-04-21', '2017-04-22', '2017-04-23', '2017-04-24',\n",
       "       '2017-04-25', '2017-04-26', '2017-04-27', '2017-04-28',\n",
       "       '2017-04-29', '2017-04-30', '2017-05-01', '2017-05-02',\n",
       "       '2017-05-03', '2017-05-04', '2017-05-05', '2017-05-06',\n",
       "       '2017-05-07', '2017-05-08', '2017-05-09', '2017-05-10',\n",
       "       '2017-05-11', '2017-05-12', '2017-05-13', '2017-05-14',\n",
       "       '2017-05-15', '2017-05-16', '2017-05-17', '2017-05-18',\n",
       "       '2017-05-19', '2017-05-20', '2017-05-21', '2017-05-22',\n",
       "       '2017-05-23', '2017-05-24', '2017-05-25', '2017-05-26',\n",
       "       '2017-05-27', '2017-05-28', '2017-05-29', '2017-05-30',\n",
       "       '2017-05-31'], dtype=object)"
      ]
     },
     "execution_count": 13,
     "metadata": {},
     "output_type": "execute_result"
    }
   ],
   "source": [
    "#確認\n",
    "air_df[\"visit_date\"].unique()"
   ]
  },
  {
   "cell_type": "code",
   "execution_count": 14,
   "metadata": {},
   "outputs": [],
   "source": [
    "air_df[\"visit_date\"] = pd.to_datetime(air_df[\"visit_date\"])"
   ]
  },
  {
   "cell_type": "code",
   "execution_count": 15,
   "metadata": {},
   "outputs": [],
   "source": [
    "date_info = date_info.rename(columns={\"calendar_date\":\"visit_date\"})\n",
    "date_info[\"visit_date\"] = pd.to_datetime(date_info[\"visit_date\"])\n",
    "air_visit_data[\"visit_date\"] = pd.to_datetime(air_visit_data[\"visit_date\"])"
   ]
  },
  {
   "cell_type": "code",
   "execution_count": 16,
   "metadata": {},
   "outputs": [
    {
     "name": "stdout",
     "output_type": "stream",
     "text": [
      "(162338, 3)\n",
      "(162338, 5)\n",
      "(162338, 9)\n",
      "(162338, 11)\n",
      "(162338, 12)\n"
     ]
    }
   ],
   "source": [
    "#分析用のデータを作成\n",
    "print(store_data_index.shape)\n",
    "air_df2 = pd.merge(store_data_index,air_df,on=[\"visit_date\",\"air_store_id\"],how=\"left\")\n",
    "print(air_df2.shape)\n",
    "air_df3 = pd.merge(air_df2,air_store_info,on=[\"air_store_id\"],how=\"left\")\n",
    "print(air_df3.shape)\n",
    "air_df4 = pd.merge(air_df3,date_info,on=[\"visit_date\"],how=\"left\")\n",
    "print(air_df4.shape)\n",
    "air_df5 = pd.merge(air_df4,air_visit_data,on=[\"visit_date\",\"air_store_id\"],how=\"left\")\n",
    "print(air_df5.shape)"
   ]
  },
  {
   "cell_type": "code",
   "execution_count": 17,
   "metadata": {},
   "outputs": [
    {
     "data": {
      "text/html": [
       "<div>\n",
       "<style scoped>\n",
       "    .dataframe tbody tr th:only-of-type {\n",
       "        vertical-align: middle;\n",
       "    }\n",
       "\n",
       "    .dataframe tbody tr th {\n",
       "        vertical-align: top;\n",
       "    }\n",
       "\n",
       "    .dataframe thead th {\n",
       "        text-align: right;\n",
       "    }\n",
       "</style>\n",
       "<table border=\"1\" class=\"dataframe\">\n",
       "  <thead>\n",
       "    <tr style=\"text-align: right;\">\n",
       "      <th></th>\n",
       "      <th>visit_date</th>\n",
       "      <th>flg</th>\n",
       "      <th>air_store_id</th>\n",
       "      <th>reserve_visitors</th>\n",
       "      <th>time_lag</th>\n",
       "      <th>air_genre_name</th>\n",
       "      <th>air_area_name</th>\n",
       "      <th>latitude</th>\n",
       "      <th>longitude</th>\n",
       "      <th>day_of_week</th>\n",
       "      <th>holiday_flg</th>\n",
       "      <th>visitors</th>\n",
       "    </tr>\n",
       "  </thead>\n",
       "  <tbody>\n",
       "    <tr>\n",
       "      <th>0</th>\n",
       "      <td>2016-01-01</td>\n",
       "      <td>1</td>\n",
       "      <td>air_877f79706adbfb06</td>\n",
       "      <td>3.0</td>\n",
       "      <td>07:00:00</td>\n",
       "      <td>Japanese food</td>\n",
       "      <td>Tōkyō-to Minato-ku Shibakōen</td>\n",
       "      <td>35.658068</td>\n",
       "      <td>139.751599</td>\n",
       "      <td>Friday</td>\n",
       "      <td>1</td>\n",
       "      <td>3.0</td>\n",
       "    </tr>\n",
       "    <tr>\n",
       "      <th>1</th>\n",
       "      <td>2016-01-01</td>\n",
       "      <td>1</td>\n",
       "      <td>air_db4b38ebe7a7ceff</td>\n",
       "      <td>9.0</td>\n",
       "      <td>00:00:00</td>\n",
       "      <td>Dining bar</td>\n",
       "      <td>Ōsaka-fu Ōsaka-shi Shinmachi</td>\n",
       "      <td>34.676231</td>\n",
       "      <td>135.486059</td>\n",
       "      <td>Friday</td>\n",
       "      <td>1</td>\n",
       "      <td>21.0</td>\n",
       "    </tr>\n",
       "    <tr>\n",
       "      <th>2</th>\n",
       "      <td>2016-01-01</td>\n",
       "      <td>1</td>\n",
       "      <td>air_db80363d35f10926</td>\n",
       "      <td>5.0</td>\n",
       "      <td>19:00:00</td>\n",
       "      <td>Dining bar</td>\n",
       "      <td>Hokkaidō Asahikawa-shi 6 Jōdōri</td>\n",
       "      <td>43.770635</td>\n",
       "      <td>142.364819</td>\n",
       "      <td>Friday</td>\n",
       "      <td>1</td>\n",
       "      <td>8.0</td>\n",
       "    </tr>\n",
       "    <tr>\n",
       "      <th>3</th>\n",
       "      <td>2016-01-01</td>\n",
       "      <td>1</td>\n",
       "      <td>air_3bb99a1fe0583897</td>\n",
       "      <td>NaN</td>\n",
       "      <td>NaT</td>\n",
       "      <td>Izakaya</td>\n",
       "      <td>Miyagi-ken Sendai-shi Kamisugi</td>\n",
       "      <td>38.269076</td>\n",
       "      <td>140.870403</td>\n",
       "      <td>Friday</td>\n",
       "      <td>1</td>\n",
       "      <td>NaN</td>\n",
       "    </tr>\n",
       "    <tr>\n",
       "      <th>4</th>\n",
       "      <td>2016-01-01</td>\n",
       "      <td>1</td>\n",
       "      <td>air_2b8b29ddfd35018e</td>\n",
       "      <td>NaN</td>\n",
       "      <td>NaT</td>\n",
       "      <td>Okonomiyaki/Monja/Teppanyaki</td>\n",
       "      <td>Hiroshima-ken Hiroshima-shi Kokutaijimachi</td>\n",
       "      <td>34.386245</td>\n",
       "      <td>132.455018</td>\n",
       "      <td>Friday</td>\n",
       "      <td>1</td>\n",
       "      <td>NaN</td>\n",
       "    </tr>\n",
       "  </tbody>\n",
       "</table>\n",
       "</div>"
      ],
      "text/plain": [
       "  visit_date  flg          air_store_id  reserve_visitors time_lag  \\\n",
       "0 2016-01-01    1  air_877f79706adbfb06               3.0 07:00:00   \n",
       "1 2016-01-01    1  air_db4b38ebe7a7ceff               9.0 00:00:00   \n",
       "2 2016-01-01    1  air_db80363d35f10926               5.0 19:00:00   \n",
       "3 2016-01-01    1  air_3bb99a1fe0583897               NaN      NaT   \n",
       "4 2016-01-01    1  air_2b8b29ddfd35018e               NaN      NaT   \n",
       "\n",
       "                 air_genre_name                               air_area_name  \\\n",
       "0                 Japanese food                Tōkyō-to Minato-ku Shibakōen   \n",
       "1                    Dining bar                Ōsaka-fu Ōsaka-shi Shinmachi   \n",
       "2                    Dining bar             Hokkaidō Asahikawa-shi 6 Jōdōri   \n",
       "3                       Izakaya              Miyagi-ken Sendai-shi Kamisugi   \n",
       "4  Okonomiyaki/Monja/Teppanyaki  Hiroshima-ken Hiroshima-shi Kokutaijimachi   \n",
       "\n",
       "    latitude   longitude day_of_week  holiday_flg  visitors  \n",
       "0  35.658068  139.751599      Friday            1       3.0  \n",
       "1  34.676231  135.486059      Friday            1      21.0  \n",
       "2  43.770635  142.364819      Friday            1       8.0  \n",
       "3  38.269076  140.870403      Friday            1       NaN  \n",
       "4  34.386245  132.455018      Friday            1       NaN  "
      ]
     },
     "execution_count": 17,
     "metadata": {},
     "output_type": "execute_result"
    }
   ],
   "source": [
    "#確認\n",
    "air_df5.head()"
   ]
  },
  {
   "cell_type": "code",
   "execution_count": 18,
   "metadata": {},
   "outputs": [
    {
     "data": {
      "text/html": [
       "<div>\n",
       "<style scoped>\n",
       "    .dataframe tbody tr th:only-of-type {\n",
       "        vertical-align: middle;\n",
       "    }\n",
       "\n",
       "    .dataframe tbody tr th {\n",
       "        vertical-align: top;\n",
       "    }\n",
       "\n",
       "    .dataframe thead th {\n",
       "        text-align: right;\n",
       "    }\n",
       "</style>\n",
       "<table border=\"1\" class=\"dataframe\">\n",
       "  <thead>\n",
       "    <tr style=\"text-align: right;\">\n",
       "      <th></th>\n",
       "      <th>hpg_store_id</th>\n",
       "      <th>visit_datetime</th>\n",
       "      <th>reserve_datetime</th>\n",
       "      <th>reserve_visitors</th>\n",
       "    </tr>\n",
       "  </thead>\n",
       "  <tbody>\n",
       "    <tr>\n",
       "      <th>0</th>\n",
       "      <td>hpg_c63f6f42e088e50f</td>\n",
       "      <td>2016-01-01 11:00:00</td>\n",
       "      <td>2016-01-01 09:00:00</td>\n",
       "      <td>1</td>\n",
       "    </tr>\n",
       "    <tr>\n",
       "      <th>1</th>\n",
       "      <td>hpg_dac72789163a3f47</td>\n",
       "      <td>2016-01-01 13:00:00</td>\n",
       "      <td>2016-01-01 06:00:00</td>\n",
       "      <td>3</td>\n",
       "    </tr>\n",
       "    <tr>\n",
       "      <th>2</th>\n",
       "      <td>hpg_c8e24dcf51ca1eb5</td>\n",
       "      <td>2016-01-01 16:00:00</td>\n",
       "      <td>2016-01-01 14:00:00</td>\n",
       "      <td>2</td>\n",
       "    </tr>\n",
       "    <tr>\n",
       "      <th>3</th>\n",
       "      <td>hpg_24bb207e5fd49d4a</td>\n",
       "      <td>2016-01-01 17:00:00</td>\n",
       "      <td>2016-01-01 11:00:00</td>\n",
       "      <td>5</td>\n",
       "    </tr>\n",
       "    <tr>\n",
       "      <th>4</th>\n",
       "      <td>hpg_25291c542ebb3bc2</td>\n",
       "      <td>2016-01-01 17:00:00</td>\n",
       "      <td>2016-01-01 03:00:00</td>\n",
       "      <td>13</td>\n",
       "    </tr>\n",
       "  </tbody>\n",
       "</table>\n",
       "</div>"
      ],
      "text/plain": [
       "           hpg_store_id       visit_datetime     reserve_datetime  \\\n",
       "0  hpg_c63f6f42e088e50f  2016-01-01 11:00:00  2016-01-01 09:00:00   \n",
       "1  hpg_dac72789163a3f47  2016-01-01 13:00:00  2016-01-01 06:00:00   \n",
       "2  hpg_c8e24dcf51ca1eb5  2016-01-01 16:00:00  2016-01-01 14:00:00   \n",
       "3  hpg_24bb207e5fd49d4a  2016-01-01 17:00:00  2016-01-01 11:00:00   \n",
       "4  hpg_25291c542ebb3bc2  2016-01-01 17:00:00  2016-01-01 03:00:00   \n",
       "\n",
       "   reserve_visitors  \n",
       "0                 1  \n",
       "1                 3  \n",
       "2                 2  \n",
       "3                 5  \n",
       "4                13  "
      ]
     },
     "execution_count": 18,
     "metadata": {},
     "output_type": "execute_result"
    }
   ],
   "source": [
    "hpg_reserve.head()"
   ]
  },
  {
   "cell_type": "code",
   "execution_count": 19,
   "metadata": {},
   "outputs": [],
   "source": [
    "hpg_reserve[\"visit_datetime\"] = pd.to_datetime(hpg_reserve[\"visit_datetime\"])\n",
    "hpg_reserve[\"visit_date\"] = hpg_reserve[\"visit_datetime\"].dt.strftime('%Y-%m-%d')\n",
    "hpg_reserve[\"reserve_datetime\"] = pd.to_datetime(hpg_reserve[\"reserve_datetime\"])\n",
    "hpg_reserve[\"reserve_date\"] = hpg_reserve[\"reserve_datetime\"].dt.strftime('%Y-%m-%d')"
   ]
  },
  {
   "cell_type": "code",
   "execution_count": 20,
   "metadata": {},
   "outputs": [
    {
     "data": {
      "text/plain": [
       "(1444616, 3)"
      ]
     },
     "execution_count": 20,
     "metadata": {},
     "output_type": "execute_result"
    }
   ],
   "source": [
    "#日付ごとに集計したデータフレームを作成\n",
    "hpg_df = hpg_reserve.groupby([\"reserve_date\",\"hpg_store_id\"]).agg({\"reserve_visitors\":\"sum\"}).reset_index()\n",
    "hpg_df.shape"
   ]
  },
  {
   "cell_type": "code",
   "execution_count": 21,
   "metadata": {},
   "outputs": [],
   "source": [
    "hpg_df2 = pd.merge(hpg_df,store_id_relation,on=\"hpg_store_id\",how=\"inner\")\n",
    "hpg_df2 = hpg_df2.rename(columns={\"reserve_visitors\":\"reserve_count\",\"reserve_date\":\"visit_date\"})"
   ]
  },
  {
   "cell_type": "code",
   "execution_count": 22,
   "metadata": {},
   "outputs": [],
   "source": [
    "hpg_df2[\"visit_date\"] = pd.to_datetime(hpg_df2[\"visit_date\"])"
   ]
  },
  {
   "cell_type": "code",
   "execution_count": 23,
   "metadata": {},
   "outputs": [],
   "source": [
    "#HPGの予約情報を追加\n",
    "air_df6 = pd.merge(air_df5, hpg_df2[[\"air_store_id\",\"visit_date\",\"reserve_count\"]], on=[\"air_store_id\",\"visit_date\"], how=\"left\")"
   ]
  },
  {
   "cell_type": "code",
   "execution_count": 24,
   "metadata": {},
   "outputs": [
    {
     "data": {
      "text/plain": [
       "(162338, 13)"
      ]
     },
     "execution_count": 24,
     "metadata": {},
     "output_type": "execute_result"
    }
   ],
   "source": [
    "#確認\n",
    "air_df6.shape"
   ]
  },
  {
   "cell_type": "code",
   "execution_count": 25,
   "metadata": {},
   "outputs": [
    {
     "data": {
      "text/plain": [
       "visit_date               0\n",
       "flg                      0\n",
       "air_store_id             0\n",
       "reserve_visitors    132508\n",
       "time_lag            132508\n",
       "air_genre_name           0\n",
       "air_area_name            0\n",
       "latitude                 0\n",
       "longitude                0\n",
       "day_of_week              0\n",
       "holiday_flg              0\n",
       "visitors             65005\n",
       "reserve_count       143945\n",
       "dtype: int64"
      ]
     },
     "execution_count": 25,
     "metadata": {},
     "output_type": "execute_result"
    }
   ],
   "source": [
    "#欠損値確認\n",
    "air_df6.isnull().sum()"
   ]
  },
  {
   "cell_type": "code",
   "execution_count": 26,
   "metadata": {},
   "outputs": [],
   "source": [
    "#欠損している値は０で補完\n",
    "air_df6 = air_df6.drop(\"time_lag\",axis=1)\n",
    "air_df6 = air_df6.fillna(0)"
   ]
  },
  {
   "cell_type": "code",
   "execution_count": 27,
   "metadata": {},
   "outputs": [],
   "source": [
    "air_df6 = air_df6.rename(columns={\"reserve_visitors\":\"visit_count\"})"
   ]
  },
  {
   "cell_type": "markdown",
   "metadata": {},
   "source": [
    "###来店回数、予約回数の確認"
   ]
  },
  {
   "cell_type": "code",
   "execution_count": 28,
   "metadata": {},
   "outputs": [
    {
     "data": {
      "image/png": "[encoded data removed]",
      "text/plain": [
       "<Figure size 1440x720 with 1 Axes>"
      ]
     },
     "metadata": {
      "needs_background": "light"
     },
     "output_type": "display_data"
    }
   ],
   "source": [
    "#1日当たりの来店回数、予約回数を集計し可視化\n",
    "total = air_df6.groupby(\"visit_date\").agg({\"visit_count\":\"sum\",\"reserve_count\":\"sum\"}).reset_index()\n",
    "visit_total = air_df6.groupby(\"visit_date\").agg({\"visitors\":\"sum\"}).reset_index()\n",
    "\n",
    "plt.figure(figsize=(20,10))\n",
    "\n",
    "c1,c2,c3 = \"blue\",\"green\",\"red\"  \n",
    "l1,l2,l3 = \"reserve_visit_count\",\"reserve_count\",\"visitors_count\" \n",
    "\n",
    "plt.plot(total[\"visit_date\"], total[\"visit_count\"], color=c1, label=l1) #airシステムからの予約数\n",
    "plt.plot(total[\"visit_date\"], total[\"reserve_count\"], color=c2, label=l2) #hpgからの予約数\n",
    "plt.plot(visit_total[\"visit_date\"], visit_total[\"visitors\"], color=c3, label=l3) #来店回数\n",
    "\n",
    "plt.legend(loc=2)\n",
    "\n",
    "plt.show()"
   ]
  },
  {
   "cell_type": "markdown",
   "metadata": {},
   "source": [
    "2016-05から201608までairシステムからの予約件数が減少。2016-08から2016-11までairシステムからの予約件数はほとんど０となっている。\n",
    "2016-11から大幅にairシステムの予約件数が増加している。\n",
    "hpgからの予約件数は大きな変化はなく一定の推移となっている。"
   ]
  },
  {
   "cell_type": "code",
   "execution_count": 29,
   "metadata": {},
   "outputs": [
    {
     "data": {
      "image/png": "[encoded data removed]",
      "text/plain": [
       "<Figure size 1440x360 with 1 Axes>"
      ]
     },
     "metadata": {
      "needs_background": "light"
     },
     "output_type": "display_data"
    }
   ],
   "source": [
    "air_df6[\"lag\"] = air_df6[\"visitors\"] - air_df6[\"visit_count\"] - air_df6[\"reserve_count\"]\n",
    "lag_total = air_df6.groupby(\"visit_date\").agg({\"lag\":\"sum\"}).reset_index()\n",
    "\n",
    "plt.figure(figsize=(20,5))\n",
    "plt.plot(lag_total[\"visit_date\"], lag_total[\"lag\"])\n",
    "plt.show()"
   ]
  },
  {
   "cell_type": "markdown",
   "metadata": {},
   "source": [
    "①2016-07までは差分が2000だが、②2016-07から2016-10までは6000、③2016-11以降からは6000と期間ごとに差分でグループに分けられる。\n",
    "このことから今後の来店回数を予測する場合は2016-11以降からのデータを使用した方が精度が高くなると考えられる。\n",
    "（①を入れると来店回数が低く出そうだし、②は逆に高く出てきそう）"
   ]
  },
  {
   "cell_type": "code",
   "execution_count": 30,
   "metadata": {},
   "outputs": [
    {
     "data": {
      "text/html": [
       "<div>\n",
       "<style scoped>\n",
       "    .dataframe tbody tr th:only-of-type {\n",
       "        vertical-align: middle;\n",
       "    }\n",
       "\n",
       "    .dataframe tbody tr th {\n",
       "        vertical-align: top;\n",
       "    }\n",
       "\n",
       "    .dataframe thead th {\n",
       "        text-align: right;\n",
       "    }\n",
       "</style>\n",
       "<table border=\"1\" class=\"dataframe\">\n",
       "  <thead>\n",
       "    <tr style=\"text-align: right;\">\n",
       "      <th></th>\n",
       "      <th>flg</th>\n",
       "      <th>visit_count</th>\n",
       "      <th>latitude</th>\n",
       "      <th>longitude</th>\n",
       "      <th>holiday_flg</th>\n",
       "      <th>visitors</th>\n",
       "      <th>reserve_count</th>\n",
       "      <th>lag</th>\n",
       "    </tr>\n",
       "  </thead>\n",
       "  <tbody>\n",
       "    <tr>\n",
       "      <th>flg</th>\n",
       "      <td>NaN</td>\n",
       "      <td>NaN</td>\n",
       "      <td>NaN</td>\n",
       "      <td>NaN</td>\n",
       "      <td>NaN</td>\n",
       "      <td>NaN</td>\n",
       "      <td>NaN</td>\n",
       "      <td>NaN</td>\n",
       "    </tr>\n",
       "    <tr>\n",
       "      <th>visit_count</th>\n",
       "      <td>NaN</td>\n",
       "      <td>1.000000</td>\n",
       "      <td>2.616296e-02</td>\n",
       "      <td>-1.876640e-02</td>\n",
       "      <td>-5.888942e-03</td>\n",
       "      <td>0.275429</td>\n",
       "      <td>0.027062</td>\n",
       "      <td>-0.381154</td>\n",
       "    </tr>\n",
       "    <tr>\n",
       "      <th>latitude</th>\n",
       "      <td>NaN</td>\n",
       "      <td>0.026163</td>\n",
       "      <td>1.000000e+00</td>\n",
       "      <td>6.640243e-01</td>\n",
       "      <td>-2.043963e-17</td>\n",
       "      <td>-0.022525</td>\n",
       "      <td>0.009702</td>\n",
       "      <td>-0.039831</td>\n",
       "    </tr>\n",
       "    <tr>\n",
       "      <th>longitude</th>\n",
       "      <td>NaN</td>\n",
       "      <td>-0.018766</td>\n",
       "      <td>6.640243e-01</td>\n",
       "      <td>1.000000e+00</td>\n",
       "      <td>3.348707e-18</td>\n",
       "      <td>-0.028044</td>\n",
       "      <td>-0.047204</td>\n",
       "      <td>-0.007315</td>\n",
       "    </tr>\n",
       "    <tr>\n",
       "      <th>holiday_flg</th>\n",
       "      <td>NaN</td>\n",
       "      <td>-0.005889</td>\n",
       "      <td>-2.043963e-17</td>\n",
       "      <td>3.348707e-18</td>\n",
       "      <td>1.000000e+00</td>\n",
       "      <td>-0.030125</td>\n",
       "      <td>-0.018681</td>\n",
       "      <td>-0.022075</td>\n",
       "    </tr>\n",
       "    <tr>\n",
       "      <th>visitors</th>\n",
       "      <td>NaN</td>\n",
       "      <td>0.275429</td>\n",
       "      <td>-2.252519e-02</td>\n",
       "      <td>-2.804382e-02</td>\n",
       "      <td>-3.012493e-02</td>\n",
       "      <td>1.000000</td>\n",
       "      <td>0.058816</td>\n",
       "      <td>0.770636</td>\n",
       "    </tr>\n",
       "    <tr>\n",
       "      <th>reserve_count</th>\n",
       "      <td>NaN</td>\n",
       "      <td>0.027062</td>\n",
       "      <td>9.702051e-03</td>\n",
       "      <td>-4.720398e-02</td>\n",
       "      <td>-1.868074e-02</td>\n",
       "      <td>0.058816</td>\n",
       "      <td>1.000000</td>\n",
       "      <td>-0.119728</td>\n",
       "    </tr>\n",
       "    <tr>\n",
       "      <th>lag</th>\n",
       "      <td>NaN</td>\n",
       "      <td>-0.381154</td>\n",
       "      <td>-3.983134e-02</td>\n",
       "      <td>-7.314533e-03</td>\n",
       "      <td>-2.207476e-02</td>\n",
       "      <td>0.770636</td>\n",
       "      <td>-0.119728</td>\n",
       "      <td>1.000000</td>\n",
       "    </tr>\n",
       "  </tbody>\n",
       "</table>\n",
       "</div>"
      ],
      "text/plain": [
       "               flg  visit_count      latitude     longitude   holiday_flg  \\\n",
       "flg            NaN          NaN           NaN           NaN           NaN   \n",
       "visit_count    NaN     1.000000  2.616296e-02 -1.876640e-02 -5.888942e-03   \n",
       "latitude       NaN     0.026163  1.000000e+00  6.640243e-01 -2.043963e-17   \n",
       "longitude      NaN    -0.018766  6.640243e-01  1.000000e+00  3.348707e-18   \n",
       "holiday_flg    NaN    -0.005889 -2.043963e-17  3.348707e-18  1.000000e+00   \n",
       "visitors       NaN     0.275429 -2.252519e-02 -2.804382e-02 -3.012493e-02   \n",
       "reserve_count  NaN     0.027062  9.702051e-03 -4.720398e-02 -1.868074e-02   \n",
       "lag            NaN    -0.381154 -3.983134e-02 -7.314533e-03 -2.207476e-02   \n",
       "\n",
       "               visitors  reserve_count       lag  \n",
       "flg                 NaN            NaN       NaN  \n",
       "visit_count    0.275429       0.027062 -0.381154  \n",
       "latitude      -0.022525       0.009702 -0.039831  \n",
       "longitude     -0.028044      -0.047204 -0.007315  \n",
       "holiday_flg   -0.030125      -0.018681 -0.022075  \n",
       "visitors       1.000000       0.058816  0.770636  \n",
       "reserve_count  0.058816       1.000000 -0.119728  \n",
       "lag            0.770636      -0.119728  1.000000  "
      ]
     },
     "execution_count": 30,
     "metadata": {},
     "output_type": "execute_result"
    }
   ],
   "source": [
    "#相関係数を確認\n",
    "air_df6.corr()"
   ]
  },
  {
   "cell_type": "markdown",
   "metadata": {},
   "source": [
    "visitorsとの相関係数を確認すると、visit_countはとても弱い正の相関、reserve_countは相関がない\n",
    "lagはvisitorsの値を使用しているため相関係数が高く出ているが特徴量としては使用ができない"
   ]
  },
  {
   "cell_type": "code",
   "execution_count": 31,
   "metadata": {},
   "outputs": [
    {
     "data": {
      "image/png": "[encoded data removed]",
      "text/plain": [
       "<Figure size 720x720 with 1 Axes>"
      ]
     },
     "metadata": {
      "needs_background": "light"
     },
     "output_type": "display_data"
    }
   ],
   "source": [
    "#来店回数の分布\n",
    "kensyou = air_df6.groupby(\"visitors\").count().reset_index()\n",
    "plt.figure(figsize=(10,10))\n",
    "plt.bar(kensyou[\"visitors\"],kensyou[\"flg\"])\n",
    "plt.show()"
   ]
  },
  {
   "cell_type": "code",
   "execution_count": 32,
   "metadata": {},
   "outputs": [],
   "source": [
    "#年月をタイムスタンプから抽出\n",
    "air_df6[\"year_month\"] = air_df6[\"visit_date\"].dt.strftime('%Y-%m')"
   ]
  },
  {
   "cell_type": "code",
   "execution_count": 33,
   "metadata": {},
   "outputs": [],
   "source": [
    "#2016-11以降のデータで来店回数を計算\n",
    "air_df7 = air_df6[air_df6[\"year_month\"] >= \"2016-11\"]"
   ]
  },
  {
   "cell_type": "code",
   "execution_count": 34,
   "metadata": {},
   "outputs": [
    {
     "data": {
      "image/png": "[encoded data removed]",
      "text/plain": [
       "<Figure size 720x720 with 1 Axes>"
      ]
     },
     "metadata": {
      "needs_background": "light"
     },
     "output_type": "display_data"
    }
   ],
   "source": [
    "#来店回数の分布\n",
    "kensyou = air_df7.groupby(\"visitors\").count().reset_index()\n",
    "kensyou_2 = air_df7.groupby(\"visit_count\").count().reset_index()\n",
    "plt.figure(figsize=(10,10))\n",
    "plt.bar(kensyou[\"visitors\"],kensyou[\"flg\"])\n",
    "plt.bar(kensyou_2[\"visit_count\"],kensyou_2[\"flg\"])\n",
    "plt.show()"
   ]
  },
  {
   "cell_type": "markdown",
   "metadata": {},
   "source": [
    "来店回数の分布を見るとほとんどが0回であり、その後若干増加し右に裾が長い分布となっていることから負の二項分布に近い分布にあたると考えられる。\n",
    "airの予約件数はほとんどが０であり山もないことからポアソン分布に従っているように見える。"
   ]
  },
  {
   "cell_type": "code",
   "execution_count": 35,
   "metadata": {},
   "outputs": [
    {
     "data": {
      "text/html": [
       "<div>\n",
       "<style scoped>\n",
       "    .dataframe tbody tr th:only-of-type {\n",
       "        vertical-align: middle;\n",
       "    }\n",
       "\n",
       "    .dataframe tbody tr th {\n",
       "        vertical-align: top;\n",
       "    }\n",
       "\n",
       "    .dataframe thead th {\n",
       "        text-align: right;\n",
       "    }\n",
       "</style>\n",
       "<table border=\"1\" class=\"dataframe\">\n",
       "  <thead>\n",
       "    <tr style=\"text-align: right;\">\n",
       "      <th></th>\n",
       "      <th>visitors</th>\n",
       "      <th>visit_count</th>\n",
       "    </tr>\n",
       "    <tr>\n",
       "      <th>day_of_week</th>\n",
       "      <th></th>\n",
       "      <th></th>\n",
       "    </tr>\n",
       "  </thead>\n",
       "  <tbody>\n",
       "    <tr>\n",
       "      <th>Friday</th>\n",
       "      <td>17.712730</td>\n",
       "      <td>3.983689</td>\n",
       "    </tr>\n",
       "    <tr>\n",
       "      <th>Monday</th>\n",
       "      <td>9.462085</td>\n",
       "      <td>1.552117</td>\n",
       "    </tr>\n",
       "    <tr>\n",
       "      <th>Saturday</th>\n",
       "      <td>18.794586</td>\n",
       "      <td>3.956920</td>\n",
       "    </tr>\n",
       "    <tr>\n",
       "      <th>Sunday</th>\n",
       "      <td>11.895335</td>\n",
       "      <td>1.877475</td>\n",
       "    </tr>\n",
       "    <tr>\n",
       "      <th>Thursday</th>\n",
       "      <td>12.532763</td>\n",
       "      <td>2.379286</td>\n",
       "    </tr>\n",
       "    <tr>\n",
       "      <th>Tuesday</th>\n",
       "      <td>10.937296</td>\n",
       "      <td>1.847908</td>\n",
       "    </tr>\n",
       "    <tr>\n",
       "      <th>Wednesday</th>\n",
       "      <td>12.514546</td>\n",
       "      <td>2.252582</td>\n",
       "    </tr>\n",
       "  </tbody>\n",
       "</table>\n",
       "</div>"
      ],
      "text/plain": [
       "              visitors  visit_count\n",
       "day_of_week                        \n",
       "Friday       17.712730     3.983689\n",
       "Monday        9.462085     1.552117\n",
       "Saturday     18.794586     3.956920\n",
       "Sunday       11.895335     1.877475\n",
       "Thursday     12.532763     2.379286\n",
       "Tuesday      10.937296     1.847908\n",
       "Wednesday    12.514546     2.252582"
      ]
     },
     "execution_count": 35,
     "metadata": {},
     "output_type": "execute_result"
    }
   ],
   "source": [
    "#曜日ごとの平均来店回数\n",
    "air_df6.groupby(\"day_of_week\").agg({\"visitors\":\"mean\",\"visit_count\":\"mean\"})"
   ]
  },
  {
   "cell_type": "code",
   "execution_count": 36,
   "metadata": {},
   "outputs": [
    {
     "data": {
      "text/html": [
       "<div>\n",
       "<style scoped>\n",
       "    .dataframe tbody tr th:only-of-type {\n",
       "        vertical-align: middle;\n",
       "    }\n",
       "\n",
       "    .dataframe tbody tr th {\n",
       "        vertical-align: top;\n",
       "    }\n",
       "\n",
       "    .dataframe thead th {\n",
       "        text-align: right;\n",
       "    }\n",
       "</style>\n",
       "<table border=\"1\" class=\"dataframe\">\n",
       "  <thead>\n",
       "    <tr style=\"text-align: right;\">\n",
       "      <th></th>\n",
       "      <th>visitors</th>\n",
       "      <th>visit_count</th>\n",
       "    </tr>\n",
       "    <tr>\n",
       "      <th>day_of_week</th>\n",
       "      <th></th>\n",
       "      <th></th>\n",
       "    </tr>\n",
       "  </thead>\n",
       "  <tbody>\n",
       "    <tr>\n",
       "      <th>Friday</th>\n",
       "      <td>21.603715</td>\n",
       "      <td>7.931423</td>\n",
       "    </tr>\n",
       "    <tr>\n",
       "      <th>Monday</th>\n",
       "      <td>11.082378</td>\n",
       "      <td>3.095223</td>\n",
       "    </tr>\n",
       "    <tr>\n",
       "      <th>Saturday</th>\n",
       "      <td>23.196178</td>\n",
       "      <td>7.764437</td>\n",
       "    </tr>\n",
       "    <tr>\n",
       "      <th>Sunday</th>\n",
       "      <td>13.935669</td>\n",
       "      <td>3.732909</td>\n",
       "    </tr>\n",
       "    <tr>\n",
       "      <th>Thursday</th>\n",
       "      <td>15.333015</td>\n",
       "      <td>4.768259</td>\n",
       "    </tr>\n",
       "    <tr>\n",
       "      <th>Tuesday</th>\n",
       "      <td>12.993220</td>\n",
       "      <td>3.619684</td>\n",
       "    </tr>\n",
       "    <tr>\n",
       "      <th>Wednesday</th>\n",
       "      <td>14.949353</td>\n",
       "      <td>4.463324</td>\n",
       "    </tr>\n",
       "  </tbody>\n",
       "</table>\n",
       "</div>"
      ],
      "text/plain": [
       "              visitors  visit_count\n",
       "day_of_week                        \n",
       "Friday       21.603715     7.931423\n",
       "Monday       11.082378     3.095223\n",
       "Saturday     23.196178     7.764437\n",
       "Sunday       13.935669     3.732909\n",
       "Thursday     15.333015     4.768259\n",
       "Tuesday      12.993220     3.619684\n",
       "Wednesday    14.949353     4.463324"
      ]
     },
     "execution_count": 36,
     "metadata": {},
     "output_type": "execute_result"
    }
   ],
   "source": [
    "#曜日ごとの平均来店回数\n",
    "air_df7.groupby(\"day_of_week\").agg({\"visitors\":\"mean\",\"visit_count\":\"mean\"})"
   ]
  },
  {
   "cell_type": "markdown",
   "metadata": {},
   "source": [
    "曜日ごとの平均回数を見るとfriday、Saturdayの平均来店回数が多い。\n",
    "翌日が休みとなる週末に集中していると考えられる。\n",
    "日月火＜水木＜金土といった傾向がある。\n",
    "2016-11以降は約２倍の予約が入っている。"
   ]
  },
  {
   "cell_type": "code",
   "execution_count": 37,
   "metadata": {},
   "outputs": [
    {
     "data": {
      "text/plain": [
       "<matplotlib.collections.PathCollection at 0x40cc6d3ac0>"
      ]
     },
     "execution_count": 37,
     "metadata": {},
     "output_type": "execute_result"
    },
    {
     "data": {
      "image/png": "[encoded data removed]",
      "text/plain": [
       "<Figure size 1440x360 with 1 Axes>"
      ]
     },
     "metadata": {
      "needs_background": "light"
     },
     "output_type": "display_data"
    }
   ],
   "source": [
    "#緯度経度を散布図で表してみる\n",
    "plt.figure(figsize=(20,5))\n",
    "plt.scatter(air_df7[\"latitude\"],air_df7[\"longitude\"])"
   ]
  },
  {
   "cell_type": "markdown",
   "metadata": {},
   "source": [
    "経度35,36あたりが比較的多い\n",
    "経度から九州から北海道までカバーしていることがわかった\n",
    "駅からの距離を測りたかったが全国のオープンデータが見つからなかったため断念"
   ]
  },
  {
   "cell_type": "code",
   "execution_count": 38,
   "metadata": {},
   "outputs": [
    {
     "data": {
      "text/html": [
       "<div>\n",
       "<style scoped>\n",
       "    .dataframe tbody tr th:only-of-type {\n",
       "        vertical-align: middle;\n",
       "    }\n",
       "\n",
       "    .dataframe tbody tr th {\n",
       "        vertical-align: top;\n",
       "    }\n",
       "\n",
       "    .dataframe thead th {\n",
       "        text-align: right;\n",
       "    }\n",
       "</style>\n",
       "<table border=\"1\" class=\"dataframe\">\n",
       "  <thead>\n",
       "    <tr style=\"text-align: right;\">\n",
       "      <th></th>\n",
       "      <th>visit_date</th>\n",
       "      <th>flg</th>\n",
       "      <th>air_store_id</th>\n",
       "      <th>visit_count</th>\n",
       "      <th>air_genre_name</th>\n",
       "      <th>air_area_name</th>\n",
       "      <th>latitude</th>\n",
       "      <th>longitude</th>\n",
       "      <th>day_of_week</th>\n",
       "      <th>holiday_flg</th>\n",
       "      <th>visitors</th>\n",
       "      <th>reserve_count</th>\n",
       "      <th>lag</th>\n",
       "      <th>year_month</th>\n",
       "    </tr>\n",
       "  </thead>\n",
       "  <tbody>\n",
       "    <tr>\n",
       "      <th>95770</th>\n",
       "      <td>2016-11-01</td>\n",
       "      <td>1</td>\n",
       "      <td>air_877f79706adbfb06</td>\n",
       "      <td>10.0</td>\n",
       "      <td>Japanese food</td>\n",
       "      <td>Tōkyō-to Minato-ku Shibakōen</td>\n",
       "      <td>35.658068</td>\n",
       "      <td>139.751599</td>\n",
       "      <td>Tuesday</td>\n",
       "      <td>0</td>\n",
       "      <td>10.0</td>\n",
       "      <td>0.0</td>\n",
       "      <td>0.0</td>\n",
       "      <td>2016-11</td>\n",
       "    </tr>\n",
       "    <tr>\n",
       "      <th>95771</th>\n",
       "      <td>2016-11-01</td>\n",
       "      <td>1</td>\n",
       "      <td>air_db4b38ebe7a7ceff</td>\n",
       "      <td>2.0</td>\n",
       "      <td>Dining bar</td>\n",
       "      <td>Ōsaka-fu Ōsaka-shi Shinmachi</td>\n",
       "      <td>34.676231</td>\n",
       "      <td>135.486059</td>\n",
       "      <td>Tuesday</td>\n",
       "      <td>0</td>\n",
       "      <td>4.0</td>\n",
       "      <td>0.0</td>\n",
       "      <td>2.0</td>\n",
       "      <td>2016-11</td>\n",
       "    </tr>\n",
       "    <tr>\n",
       "      <th>95772</th>\n",
       "      <td>2016-11-01</td>\n",
       "      <td>1</td>\n",
       "      <td>air_db80363d35f10926</td>\n",
       "      <td>0.0</td>\n",
       "      <td>Dining bar</td>\n",
       "      <td>Hokkaidō Asahikawa-shi 6 Jōdōri</td>\n",
       "      <td>43.770635</td>\n",
       "      <td>142.364819</td>\n",
       "      <td>Tuesday</td>\n",
       "      <td>0</td>\n",
       "      <td>0.0</td>\n",
       "      <td>3.0</td>\n",
       "      <td>-3.0</td>\n",
       "      <td>2016-11</td>\n",
       "    </tr>\n",
       "    <tr>\n",
       "      <th>95773</th>\n",
       "      <td>2016-11-01</td>\n",
       "      <td>1</td>\n",
       "      <td>air_3bb99a1fe0583897</td>\n",
       "      <td>7.0</td>\n",
       "      <td>Izakaya</td>\n",
       "      <td>Miyagi-ken Sendai-shi Kamisugi</td>\n",
       "      <td>38.269076</td>\n",
       "      <td>140.870403</td>\n",
       "      <td>Tuesday</td>\n",
       "      <td>0</td>\n",
       "      <td>14.0</td>\n",
       "      <td>0.0</td>\n",
       "      <td>7.0</td>\n",
       "      <td>2016-11</td>\n",
       "    </tr>\n",
       "    <tr>\n",
       "      <th>95774</th>\n",
       "      <td>2016-11-01</td>\n",
       "      <td>1</td>\n",
       "      <td>air_2b8b29ddfd35018e</td>\n",
       "      <td>0.0</td>\n",
       "      <td>Okonomiyaki/Monja/Teppanyaki</td>\n",
       "      <td>Hiroshima-ken Hiroshima-shi Kokutaijimachi</td>\n",
       "      <td>34.386245</td>\n",
       "      <td>132.455018</td>\n",
       "      <td>Tuesday</td>\n",
       "      <td>0</td>\n",
       "      <td>13.0</td>\n",
       "      <td>2.0</td>\n",
       "      <td>11.0</td>\n",
       "      <td>2016-11</td>\n",
       "    </tr>\n",
       "  </tbody>\n",
       "</table>\n",
       "</div>"
      ],
      "text/plain": [
       "      visit_date  flg          air_store_id  visit_count  \\\n",
       "95770 2016-11-01    1  air_877f79706adbfb06         10.0   \n",
       "95771 2016-11-01    1  air_db4b38ebe7a7ceff          2.0   \n",
       "95772 2016-11-01    1  air_db80363d35f10926          0.0   \n",
       "95773 2016-11-01    1  air_3bb99a1fe0583897          7.0   \n",
       "95774 2016-11-01    1  air_2b8b29ddfd35018e          0.0   \n",
       "\n",
       "                     air_genre_name  \\\n",
       "95770                 Japanese food   \n",
       "95771                    Dining bar   \n",
       "95772                    Dining bar   \n",
       "95773                       Izakaya   \n",
       "95774  Okonomiyaki/Monja/Teppanyaki   \n",
       "\n",
       "                                    air_area_name   latitude   longitude  \\\n",
       "95770                Tōkyō-to Minato-ku Shibakōen  35.658068  139.751599   \n",
       "95771                Ōsaka-fu Ōsaka-shi Shinmachi  34.676231  135.486059   \n",
       "95772             Hokkaidō Asahikawa-shi 6 Jōdōri  43.770635  142.364819   \n",
       "95773              Miyagi-ken Sendai-shi Kamisugi  38.269076  140.870403   \n",
       "95774  Hiroshima-ken Hiroshima-shi Kokutaijimachi  34.386245  132.455018   \n",
       "\n",
       "      day_of_week  holiday_flg  visitors  reserve_count   lag year_month  \n",
       "95770     Tuesday            0      10.0            0.0   0.0    2016-11  \n",
       "95771     Tuesday            0       4.0            0.0   2.0    2016-11  \n",
       "95772     Tuesday            0       0.0            3.0  -3.0    2016-11  \n",
       "95773     Tuesday            0      14.0            0.0   7.0    2016-11  \n",
       "95774     Tuesday            0      13.0            2.0  11.0    2016-11  "
      ]
     },
     "execution_count": 38,
     "metadata": {},
     "output_type": "execute_result"
    }
   ],
   "source": [
    "air_df7.head()"
   ]
  },
  {
   "cell_type": "code",
   "execution_count": 39,
   "metadata": {},
   "outputs": [
    {
     "data": {
      "text/html": [
       "<div>\n",
       "<style scoped>\n",
       "    .dataframe tbody tr th:only-of-type {\n",
       "        vertical-align: middle;\n",
       "    }\n",
       "\n",
       "    .dataframe tbody tr th {\n",
       "        vertical-align: top;\n",
       "    }\n",
       "\n",
       "    .dataframe thead th {\n",
       "        text-align: right;\n",
       "    }\n",
       "</style>\n",
       "<table border=\"1\" class=\"dataframe\">\n",
       "  <thead>\n",
       "    <tr style=\"text-align: right;\">\n",
       "      <th></th>\n",
       "      <th>air_genre_name</th>\n",
       "      <th>visitors</th>\n",
       "      <th>visit_count</th>\n",
       "    </tr>\n",
       "  </thead>\n",
       "  <tbody>\n",
       "    <tr>\n",
       "      <th>5</th>\n",
       "      <td>International cuisine</td>\n",
       "      <td>8.235849</td>\n",
       "      <td>0.066038</td>\n",
       "    </tr>\n",
       "    <tr>\n",
       "      <th>1</th>\n",
       "      <td>Bar/Cocktail</td>\n",
       "      <td>8.976078</td>\n",
       "      <td>1.938005</td>\n",
       "    </tr>\n",
       "    <tr>\n",
       "      <th>8</th>\n",
       "      <td>Japanese food</td>\n",
       "      <td>12.848731</td>\n",
       "      <td>4.872967</td>\n",
       "    </tr>\n",
       "    <tr>\n",
       "      <th>11</th>\n",
       "      <td>Other</td>\n",
       "      <td>13.149371</td>\n",
       "      <td>3.537736</td>\n",
       "    </tr>\n",
       "    <tr>\n",
       "      <th>6</th>\n",
       "      <td>Italian/French</td>\n",
       "      <td>15.417839</td>\n",
       "      <td>5.667839</td>\n",
       "    </tr>\n",
       "    <tr>\n",
       "      <th>10</th>\n",
       "      <td>Okonomiyaki/Monja/Teppanyaki</td>\n",
       "      <td>16.276205</td>\n",
       "      <td>4.740042</td>\n",
       "    </tr>\n",
       "    <tr>\n",
       "      <th>4</th>\n",
       "      <td>Dining bar</td>\n",
       "      <td>16.548298</td>\n",
       "      <td>4.113413</td>\n",
       "    </tr>\n",
       "    <tr>\n",
       "      <th>13</th>\n",
       "      <td>Yakiniku/Korean food</td>\n",
       "      <td>16.664465</td>\n",
       "      <td>6.050000</td>\n",
       "    </tr>\n",
       "    <tr>\n",
       "      <th>2</th>\n",
       "      <td>Cafe/Sweets</td>\n",
       "      <td>16.866981</td>\n",
       "      <td>2.585142</td>\n",
       "    </tr>\n",
       "    <tr>\n",
       "      <th>12</th>\n",
       "      <td>Western food</td>\n",
       "      <td>17.106469</td>\n",
       "      <td>7.671833</td>\n",
       "    </tr>\n",
       "    <tr>\n",
       "      <th>7</th>\n",
       "      <td>Izakaya</td>\n",
       "      <td>17.710163</td>\n",
       "      <td>5.707547</td>\n",
       "    </tr>\n",
       "    <tr>\n",
       "      <th>3</th>\n",
       "      <td>Creative cuisine</td>\n",
       "      <td>19.205975</td>\n",
       "      <td>9.732704</td>\n",
       "    </tr>\n",
       "    <tr>\n",
       "      <th>0</th>\n",
       "      <td>Asian</td>\n",
       "      <td>19.844340</td>\n",
       "      <td>0.245283</td>\n",
       "    </tr>\n",
       "    <tr>\n",
       "      <th>9</th>\n",
       "      <td>Karaoke/Party</td>\n",
       "      <td>32.297170</td>\n",
       "      <td>7.669811</td>\n",
       "    </tr>\n",
       "  </tbody>\n",
       "</table>\n",
       "</div>"
      ],
      "text/plain": [
       "                  air_genre_name   visitors  visit_count\n",
       "5          International cuisine   8.235849     0.066038\n",
       "1                   Bar/Cocktail   8.976078     1.938005\n",
       "8                  Japanese food  12.848731     4.872967\n",
       "11                         Other  13.149371     3.537736\n",
       "6                 Italian/French  15.417839     5.667839\n",
       "10  Okonomiyaki/Monja/Teppanyaki  16.276205     4.740042\n",
       "4                     Dining bar  16.548298     4.113413\n",
       "13          Yakiniku/Korean food  16.664465     6.050000\n",
       "2                    Cafe/Sweets  16.866981     2.585142\n",
       "12                  Western food  17.106469     7.671833\n",
       "7                        Izakaya  17.710163     5.707547\n",
       "3               Creative cuisine  19.205975     9.732704\n",
       "0                          Asian  19.844340     0.245283\n",
       "9                  Karaoke/Party  32.297170     7.669811"
      ]
     },
     "execution_count": 39,
     "metadata": {},
     "output_type": "execute_result"
    }
   ],
   "source": [
    "#飲食店の種類別平均来店回数\n",
    "air_df7.groupby(\"air_genre_name\").agg({\"visitors\":\"mean\",\"visit_count\":\"mean\"}).reset_index().sort_values(\"visitors\")"
   ]
  },
  {
   "cell_type": "markdown",
   "metadata": {},
   "source": [
    "karaoke/partyが平均客数、平均予約数共に一番多い\n",
    "Asian、international cuisineは予約がほとんどない"
   ]
  },
  {
   "cell_type": "code",
   "execution_count": 40,
   "metadata": {},
   "outputs": [
    {
     "data": {
      "text/html": [
       "<div>\n",
       "<style scoped>\n",
       "    .dataframe tbody tr th:only-of-type {\n",
       "        vertical-align: middle;\n",
       "    }\n",
       "\n",
       "    .dataframe tbody tr th {\n",
       "        vertical-align: top;\n",
       "    }\n",
       "\n",
       "    .dataframe thead th {\n",
       "        text-align: right;\n",
       "    }\n",
       "</style>\n",
       "<table border=\"1\" class=\"dataframe\">\n",
       "  <thead>\n",
       "    <tr style=\"text-align: right;\">\n",
       "      <th></th>\n",
       "      <th>air_store_id</th>\n",
       "      <th>visit_datetime</th>\n",
       "      <th>reserve_datetime</th>\n",
       "      <th>reserve_visitors</th>\n",
       "      <th>visit_date</th>\n",
       "      <th>time_lag</th>\n",
       "    </tr>\n",
       "  </thead>\n",
       "  <tbody>\n",
       "    <tr>\n",
       "      <th>0</th>\n",
       "      <td>air_877f79706adbfb06</td>\n",
       "      <td>2016-01-01 19:00:00</td>\n",
       "      <td>2016-01-01 16:00:00</td>\n",
       "      <td>1</td>\n",
       "      <td>2016-01-01</td>\n",
       "      <td>03:00:00</td>\n",
       "    </tr>\n",
       "    <tr>\n",
       "      <th>1</th>\n",
       "      <td>air_db4b38ebe7a7ceff</td>\n",
       "      <td>2016-01-01 19:00:00</td>\n",
       "      <td>2016-01-01 19:00:00</td>\n",
       "      <td>3</td>\n",
       "      <td>2016-01-01</td>\n",
       "      <td>00:00:00</td>\n",
       "    </tr>\n",
       "    <tr>\n",
       "      <th>2</th>\n",
       "      <td>air_db4b38ebe7a7ceff</td>\n",
       "      <td>2016-01-01 19:00:00</td>\n",
       "      <td>2016-01-01 19:00:00</td>\n",
       "      <td>6</td>\n",
       "      <td>2016-01-01</td>\n",
       "      <td>00:00:00</td>\n",
       "    </tr>\n",
       "    <tr>\n",
       "      <th>3</th>\n",
       "      <td>air_877f79706adbfb06</td>\n",
       "      <td>2016-01-01 20:00:00</td>\n",
       "      <td>2016-01-01 16:00:00</td>\n",
       "      <td>2</td>\n",
       "      <td>2016-01-01</td>\n",
       "      <td>04:00:00</td>\n",
       "    </tr>\n",
       "    <tr>\n",
       "      <th>4</th>\n",
       "      <td>air_db80363d35f10926</td>\n",
       "      <td>2016-01-01 20:00:00</td>\n",
       "      <td>2016-01-01 01:00:00</td>\n",
       "      <td>5</td>\n",
       "      <td>2016-01-01</td>\n",
       "      <td>19:00:00</td>\n",
       "    </tr>\n",
       "  </tbody>\n",
       "</table>\n",
       "</div>"
      ],
      "text/plain": [
       "           air_store_id      visit_datetime    reserve_datetime  \\\n",
       "0  air_877f79706adbfb06 2016-01-01 19:00:00 2016-01-01 16:00:00   \n",
       "1  air_db4b38ebe7a7ceff 2016-01-01 19:00:00 2016-01-01 19:00:00   \n",
       "2  air_db4b38ebe7a7ceff 2016-01-01 19:00:00 2016-01-01 19:00:00   \n",
       "3  air_877f79706adbfb06 2016-01-01 20:00:00 2016-01-01 16:00:00   \n",
       "4  air_db80363d35f10926 2016-01-01 20:00:00 2016-01-01 01:00:00   \n",
       "\n",
       "   reserve_visitors  visit_date time_lag  \n",
       "0                 1  2016-01-01 03:00:00  \n",
       "1                 3  2016-01-01 00:00:00  \n",
       "2                 6  2016-01-01 00:00:00  \n",
       "3                 2  2016-01-01 04:00:00  \n",
       "4                 5  2016-01-01 19:00:00  "
      ]
     },
     "execution_count": 40,
     "metadata": {},
     "output_type": "execute_result"
    }
   ],
   "source": [
    "air_reserve.head()"
   ]
  },
  {
   "cell_type": "code",
   "execution_count": 41,
   "metadata": {},
   "outputs": [],
   "source": [
    "#年月日をタイムスタンプから抽出\n",
    "air_reserve[\"hour\"] = air_reserve[\"visit_datetime\"].dt.strftime('%H')"
   ]
  },
  {
   "cell_type": "code",
   "execution_count": 42,
   "metadata": {},
   "outputs": [
    {
     "data": {
      "text/plain": [
       "<BarContainer object of 24 artists>"
      ]
     },
     "execution_count": 42,
     "metadata": {},
     "output_type": "execute_result"
    },
    {
     "data": {
      "image/png": "[encoded data removed]",
      "text/plain": [
       "<Figure size 432x288 with 1 Axes>"
      ]
     },
     "metadata": {
      "needs_background": "light"
     },
     "output_type": "display_data"
    }
   ],
   "source": [
    "total_hour = air_reserve.groupby(\"hour\")[\"reserve_visitors\"].sum().reset_index()\n",
    "plt.bar(total_hour[\"hour\"],total_hour[\"reserve_visitors\"])"
   ]
  },
  {
   "cell_type": "raw",
   "metadata": {},
   "source": [
    "予約は夜の件数が圧倒的に多く、次いでランチタイムとなっている"
   ]
  },
  {
   "cell_type": "code",
   "execution_count": 43,
   "metadata": {},
   "outputs": [
    {
     "name": "stdout",
     "output_type": "stream",
     "text": [
      "<class 'pandas.core.frame.DataFrame'>\n",
      "Int64Index: 66568 entries, 95770 to 162337\n",
      "Data columns (total 14 columns):\n",
      " #   Column          Non-Null Count  Dtype         \n",
      "---  ------          --------------  -----         \n",
      " 0   visit_date      66568 non-null  datetime64[ns]\n",
      " 1   flg             66568 non-null  int64         \n",
      " 2   air_store_id    66568 non-null  object        \n",
      " 3   visit_count     66568 non-null  float64       \n",
      " 4   air_genre_name  66568 non-null  object        \n",
      " 5   air_area_name   66568 non-null  object        \n",
      " 6   latitude        66568 non-null  float64       \n",
      " 7   longitude       66568 non-null  float64       \n",
      " 8   day_of_week     66568 non-null  object        \n",
      " 9   holiday_flg     66568 non-null  int64         \n",
      " 10  visitors        66568 non-null  float64       \n",
      " 11  reserve_count   66568 non-null  float64       \n",
      " 12  lag             66568 non-null  float64       \n",
      " 13  year_month      66568 non-null  object        \n",
      "dtypes: datetime64[ns](1), float64(6), int64(2), object(5)\n",
      "memory usage: 7.6+ MB\n"
     ]
    }
   ],
   "source": [
    "air_df7.info()"
   ]
  },
  {
   "cell_type": "code",
   "execution_count": 44,
   "metadata": {},
   "outputs": [
    {
     "name": "stderr",
     "output_type": "stream",
     "text": [
      "<ipython-input-44-b00f39fdb8af>:2: SettingWithCopyWarning: \n",
      "A value is trying to be set on a copy of a slice from a DataFrame.\n",
      "Try using .loc[row_indexer,col_indexer] = value instead\n",
      "\n",
      "See the caveats in the documentation: https://pandas.pydata.org/pandas-docs/stable/user_guide/indexing.html#returning-a-view-versus-a-copy\n",
      "  air_df7[\"area\"] = air_df7[\"air_area_name\"].str.split(\"-\",expand=True)[0]\n"
     ]
    }
   ],
   "source": [
    "#県を抽出\n",
    "air_df7[\"area\"] = air_df7[\"air_area_name\"].str.split(\"-\",expand=True)[0]\n",
    "air_df7 = air_df7.drop(\"air_area_name\",axis=1)"
   ]
  },
  {
   "cell_type": "code",
   "execution_count": 45,
   "metadata": {},
   "outputs": [],
   "source": [
    "#object型をcategory型へ変換\n",
    "for i in [\"air_store_id\", \"air_genre_name\", \"day_of_week\", \"area\"]:\n",
    "    air_df7[i] = air_df7[i].astype(\"category\")"
   ]
  },
  {
   "cell_type": "code",
   "execution_count": 46,
   "metadata": {},
   "outputs": [],
   "source": [
    "#year_monthを削除\n",
    "air_df7 = air_df7.drop(\"year_month\", axis=1)"
   ]
  },
  {
   "cell_type": "code",
   "execution_count": 47,
   "metadata": {},
   "outputs": [],
   "source": [
    "#2016-11から2017-01までのデータを用いて2017-02の予測をしてみる(train)\n",
    "X_train = air_df7[air_df7[\"visit_date\"] <= \"2017-01\"].drop(\"visitors\",axis=1)\n",
    "y_train = air_df7[air_df7[\"visit_date\"] <= \"2017-01\"][\"visitors\"]"
   ]
  },
  {
   "cell_type": "code",
   "execution_count": 48,
   "metadata": {},
   "outputs": [],
   "source": [
    "#2016-11から2017-02までのデータを用いて2017-03を予測（val）\n",
    "X_val = air_df7[air_df7[\"visit_date\"] <= \"2017-02\"].drop(\"visitors\",axis=1)\n",
    "y_val = air_df7[air_df7[\"visit_date\"] <= \"2017-02\"][\"visitors\"]"
   ]
  },
  {
   "cell_type": "code",
   "execution_count": 49,
   "metadata": {},
   "outputs": [],
   "source": [
    "#visit_dateをcategory型へ変換\n",
    "X_train[\"visit_date\"] = X_train[\"visit_date\"].astype(\"int\")\n",
    "X_val[\"visit_date\"] = X_val[\"visit_date\"].astype(\"int\")"
   ]
  },
  {
   "cell_type": "code",
   "execution_count": 53,
   "metadata": {},
   "outputs": [],
   "source": [
    "#テストデータ作成\n",
    "x_test = air_df7[air_df7[\"visit_date\"] == \"2017-02\"].drop(\"visitors\",axis=1)\n",
    "y_test = air_df7[air_df7[\"visit_date\"] == \"2017-02\"][\"visitors\"]\n",
    "x_test2 = air_df7[air_df7[\"visit_date\"] == \"2017-03\"].drop(\"visitors\",axis=1)\n",
    "y_test2 = air_df7[air_df7[\"visit_date\"] == \"2017-03\"][\"visitors\"]"
   ]
  },
  {
   "cell_type": "code",
   "execution_count": 57,
   "metadata": {},
   "outputs": [],
   "source": [
    "#visit_dateをcategory型へ変換\n",
    "x_test[\"visit_date\"] = x_test[\"visit_date\"].astype(\"int\")\n",
    "x_test2[\"visit_date\"] = x_test2[\"visit_date\"].astype(\"int\")"
   ]
  },
  {
   "cell_type": "code",
   "execution_count": 50,
   "metadata": {},
   "outputs": [
    {
     "data": {
      "text/plain": [
       "LGBMRegressor(max_depth=12, metrics='rmse', num_leaves=25)"
      ]
     },
     "execution_count": 50,
     "metadata": {},
     "output_type": "execute_result"
    }
   ],
   "source": [
    "#モデル定義\n",
    "model = lgb.LGBMRegressor(learning_rate=0.1,metrics='rmse',max_depth=12,num_leaves=25)\n",
    "#学習\n",
    "model.fit(X_train,y_train)"
   ]
  },
  {
   "cell_type": "code",
   "execution_count": 54,
   "metadata": {},
   "outputs": [
    {
     "name": "stdout",
     "output_type": "stream",
     "text": [
      "rmse.train_score:1.0575952065685825\n",
      "rmse.val_score:0.99370031904583\n"
     ]
    }
   ],
   "source": [
    "#評価指標\n",
    "from sklearn.metrics import mean_squared_error\n",
    "from math import sqrt\n",
    "y_pred = model.predict(X_train)\n",
    "rmse = sqrt(mean_squared_error(y_train, y_pred))\n",
    "print(\"rmse.train_score:{}\".format(rmse))\n",
    "\n",
    "y_pred_val = model.predict(X_val)\n",
    "rmse_val = sqrt(mean_squared_error(y_val, y_pred_val))\n",
    "print(\"rmse.val_score:{}\".format(rmse_val))"
   ]
  },
  {
   "cell_type": "code",
   "execution_count": 59,
   "metadata": {},
   "outputs": [
    {
     "name": "stdout",
     "output_type": "stream",
     "text": [
      "rmse.train_score:0.47649823080426357\n",
      "rmse.val_score:0.5445653855285624\n"
     ]
    }
   ],
   "source": [
    "#テスト\n",
    "y_pred = model.predict(x_test)\n",
    "rmse = sqrt(mean_squared_error(y_test, y_pred))\n",
    "print(\"rmse.train_score:{}\".format(rmse))\n",
    "\n",
    "y_pred_val = model.predict(x_test2)\n",
    "rmse_val = sqrt(mean_squared_error(y_test2, y_pred_val))\n",
    "print(\"rmse.val_score:{}\".format(rmse_val))"
   ]
  },
  {
   "cell_type": "code",
   "execution_count": 60,
   "metadata": {},
   "outputs": [
    {
     "data": {
      "text/plain": [
       "LGBMRegressor(max_depth=12, metrics='tweedie', num_leaves=25)"
      ]
     },
     "execution_count": 60,
     "metadata": {},
     "output_type": "execute_result"
    }
   ],
   "source": [
    "#モデル定義 tweedie\n",
    "model_2 = lgb.LGBMRegressor(learning_rate=0.1,metrics='tweedie',max_depth=12,num_leaves=25)\n",
    "#学習\n",
    "model_2.fit(X_train,y_train)"
   ]
  },
  {
   "cell_type": "code",
   "execution_count": 61,
   "metadata": {},
   "outputs": [
    {
     "name": "stdout",
     "output_type": "stream",
     "text": [
      "rmse.train_score:1.0575952065685825\n",
      "rmse.val_score:0.99370031904583\n"
     ]
    }
   ],
   "source": [
    "y_pred_tweedie = model_2.predict(X_train)\n",
    "tweedie = sqrt(mean_squared_error(y_train, y_pred_tweedie))\n",
    "print(\"rmse.train_score:{}\".format(tweedie))\n",
    "\n",
    "y_pred_val_tweedie = model_2.predict(X_val)\n",
    "tweedie_val = sqrt(mean_squared_error(y_val, y_pred_val_tweedie))\n",
    "print(\"rmse.val_score:{}\".format(tweedie_val))"
   ]
  },
  {
   "cell_type": "code",
   "execution_count": 62,
   "metadata": {},
   "outputs": [
    {
     "name": "stdout",
     "output_type": "stream",
     "text": [
      "tweedie.train_score:0.47649823080426357\n",
      "rmse.val_score:0.5445653855285624\n"
     ]
    }
   ],
   "source": [
    "#テスト\n",
    "y_pred_tweedie = model_2.predict(x_test)\n",
    "tweedie = sqrt(mean_squared_error(y_test, y_pred_tweedie))\n",
    "print(\"tweedie.train_score:{}\".format(tweedie))\n",
    "\n",
    "y_pred_val_tweedie = model_2.predict(x_test2)\n",
    "tweedie_val = sqrt(mean_squared_error(y_test2, y_pred_val_tweedie))\n",
    "print(\"rmse.val_score:{}\".format(tweedie_val))"
   ]
  },
  {
   "cell_type": "code",
   "execution_count": null,
   "metadata": {},
   "outputs": [],
   "source": []
  }
 ],
 "metadata": {
  "kernelspec": {
   "display_name": "Python 3",
   "language": "python",
   "name": "python3"
  },
  "language_info": {
   "codemirror_mode": {
    "name": "ipython",
    "version": 3
   },
   "file_extension": ".py",
   "mimetype": "text/x-python",
   "name": "python",
   "nbconvert_exporter": "python",
   "pygments_lexer": "ipython3",
   "version": "3.8.3"
  }
 },
 "nbformat": 4,
 "nbformat_minor": 4
}
